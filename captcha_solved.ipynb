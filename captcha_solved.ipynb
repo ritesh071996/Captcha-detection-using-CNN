{
 "cells": [
  {
   "cell_type": "code",
   "execution_count": 1,
   "metadata": {},
   "outputs": [
    {
     "name": "stderr",
     "output_type": "stream",
     "text": [
      "Using TensorFlow backend.\n"
     ]
    },
    {
     "name": "stdout",
     "output_type": "stream",
     "text": [
      "0123456789\n",
      "10\n"
     ]
    }
   ],
   "source": [
    "from keras import layers\n",
    "from keras.models import Model\n",
    "from keras.models import load_model\n",
    "from keras import callbacks\n",
    "import os\n",
    "import cv2\n",
    "import string\n",
    "import numpy as np\n",
    "\n",
    "#Init main values\n",
    "symbols = \"0123456789\" # All symbols captcha can contain\n",
    "print(symbols)\n",
    "num_symbols = len(symbols)\n",
    "print(num_symbols)\n",
    "img_shape = (50, 182, 1)"
   ]
  },
  {
   "cell_type": "code",
   "execution_count": 13,
   "metadata": {},
   "outputs": [],
   "source": [
    "# Define a function that creates a net\n",
    "def create_net():\n",
    "    img = layers.Input(shape=img_shape) # Get image as an input and process it through some Convs\n",
    "    conv1 = layers.Conv2D(16, (3, 3), padding='same', activation='relu')(img)\n",
    "    mp1 = layers.MaxPooling2D(padding='same')(conv1)  # 100x25\n",
    "    conv1 = layers.Conv2D(16, (3, 3), padding='same', activation='relu')(img)\n",
    "    mp1 = layers.MaxPooling2D(padding='same')(conv1)  # 100x25\n",
    "    conv1 = layers.Conv2D(16, (3, 3), padding='same', activation='relu')(img)\n",
    "    mp1 = layers.MaxPooling2D(padding='same')(conv1)  # 100x25\n",
    "    conv2 = layers.Conv2D(32, (3, 3), padding='same', activation='relu')(mp1)\n",
    "    mp2 = layers.MaxPooling2D(padding='same')(conv2)  # 50x13\n",
    "    conv2 = layers.Conv2D(32, (3, 3), padding='same', activation='relu')(mp1)\n",
    "    mp2 = layers.MaxPooling2D(padding='same')(conv2)  # 50x13\n",
    "    conv2 = layers.Conv2D(32, (3, 3), padding='same', activation='relu')(mp1)\n",
    "    mp2 = layers.MaxPooling2D(padding='same')(conv2)  # 50x13\n",
    "    conv3 = layers.Conv2D(32, (3, 3), padding='same', activation='relu')(mp2)\n",
    "    bn = layers.BatchNormalization()(conv3)\n",
    "    mp3 = layers.MaxPooling2D(padding='same')(bn)  # 25x7\n",
    "    \n",
    "    # Get flattened vector and make 6 branches from it. Each branch will predict one letter\n",
    "    flat = layers.Flatten()(mp3)\n",
    "    outs = []\n",
    "    for _ in range(6):\n",
    "        dens1 = layers.Dense(64, activation='relu')(flat)\n",
    "        drop = layers.Dropout(0.5)(dens1)\n",
    "        res = layers.Dense(num_symbols, activation='sigmoid')(drop)\n",
    "\n",
    "        outs.append(res)\n",
    "    \n",
    "    # Compile model and return it\n",
    "    model = Model(img, outs)\n",
    "    model.compile('rmsprop', loss=['categorical_crossentropy', 'categorical_crossentropy','categorical_crossentropy',\n",
    "                                   'categorical_crossentropy', 'categorical_crossentropy', 'categorical_crossentropy'])\n",
    "    return model"
   ]
  },
  {
   "cell_type": "code",
   "execution_count": 18,
   "metadata": {},
   "outputs": [],
   "source": [
    "# First we need to preprocess the data\n",
    "def preprocess_data():\n",
    "    n_samples = len(os.listdir(r'C:\\Users\\MudraCircle\\.conda\\pkgs\\04_CAPTCHA model training\\captcha'))\n",
    "    X = np.zeros((n_samples, 50, 182, 1))\n",
    "    y = np.zeros((6, n_samples, num_symbols))\n",
    "\n",
    "    for i, pic in enumerate(os.listdir(r'C:\\Users\\MudraCircle\\.conda\\pkgs\\04_CAPTCHA model training\\captcha')):\n",
    "        # Read image as grayscale\n",
    "        img = cv2.imread(os.path.join(r'C:\\Users\\MudraCircle\\.conda\\pkgs\\04_CAPTCHA model training\\captcha', pic), cv2.IMREAD_GRAYSCALE)\n",
    "        pic_target = pic[:-4]\n",
    "        if len(pic_target) < 7:\n",
    "            # Scale and reshape image\n",
    "            img = img / 255.\n",
    "            img = np.reshape(img, (50, 182, 1))\n",
    "            \n",
    "            # Define targets and code them using OneHotEncoding\n",
    "            targs = np.zeros((6, num_symbols))\n",
    "            for j, l in enumerate(pic_target):\n",
    "                ind = symbols.find(l)\n",
    "                targs[j, ind] = 1\n",
    "            X[i] = img\n",
    "            y[:, i] = targs\n",
    "    \n",
    "    # Return final data\n",
    "    return X, y\n",
    "\n",
    "X, y = preprocess_data()\n",
    "X_train, y_train = X[:1000], y[:, :1000]\n",
    "X_test, y_test = X[1000:], y[:, 1000:]"
   ]
  },
  {
   "cell_type": "code",
   "execution_count": 19,
   "metadata": {
    "scrolled": true
   },
   "outputs": [
    {
     "name": "stdout",
     "output_type": "stream",
     "text": [
      "Train on 800 samples, validate on 200 samples\n",
      "Epoch 1/30\n",
      "800/800 [==============================] - 27s 34ms/step - loss: 16.5352 - dense_26_loss: 2.3936 - dense_28_loss: 2.8411 - dense_30_loss: 2.9827 - dense_32_loss: 2.7364 - dense_34_loss: 2.7611 - dense_36_loss: 2.8202 - val_loss: 20.2893 - val_dense_26_loss: 8.7036 - val_dense_28_loss: 2.3288 - val_dense_30_loss: 2.3063 - val_dense_32_loss: 2.3049 - val_dense_34_loss: 2.2962 - val_dense_36_loss: 2.3494\n",
      "Epoch 2/30\n",
      "800/800 [==============================] - 23s 29ms/step - loss: 14.0852 - dense_26_loss: 2.1321 - dense_28_loss: 2.3759 - dense_30_loss: 2.4031 - dense_32_loss: 2.4322 - dense_34_loss: 2.4396 - dense_36_loss: 2.3022 - val_loss: 18.4424 - val_dense_26_loss: 7.0127 - val_dense_28_loss: 2.2981 - val_dense_30_loss: 2.2998 - val_dense_32_loss: 2.2727 - val_dense_34_loss: 2.2630 - val_dense_36_loss: 2.2961\n",
      "Epoch 3/30\n",
      "800/800 [==============================] - 23s 29ms/step - loss: 13.7955 - dense_26_loss: 2.0492 - dense_28_loss: 2.3761 - dense_30_loss: 2.3615 - dense_32_loss: 2.3374 - dense_34_loss: 2.3491 - dense_36_loss: 2.3222 - val_loss: 19.2712 - val_dense_26_loss: 7.7592 - val_dense_28_loss: 2.4397 - val_dense_30_loss: 2.3018 - val_dense_32_loss: 2.2758 - val_dense_34_loss: 2.1927 - val_dense_36_loss: 2.3020\n",
      "Epoch 4/30\n",
      "800/800 [==============================] - 24s 30ms/step - loss: 13.4592 - dense_26_loss: 1.9370 - dense_28_loss: 2.3354 - dense_30_loss: 2.3265 - dense_32_loss: 2.3013 - dense_34_loss: 2.2797 - dense_36_loss: 2.2792 - val_loss: 19.8175 - val_dense_26_loss: 8.5562 - val_dense_28_loss: 2.2777 - val_dense_30_loss: 2.2925 - val_dense_32_loss: 2.2310 - val_dense_34_loss: 2.1982 - val_dense_36_loss: 2.2620\n",
      "Epoch 5/30\n",
      "800/800 [==============================] - 25s 32ms/step - loss: 13.3308 - dense_26_loss: 1.9208 - dense_28_loss: 2.2886 - dense_30_loss: 2.3436 - dense_32_loss: 2.3023 - dense_34_loss: 2.2167 - dense_36_loss: 2.2589 - val_loss: 19.3341 - val_dense_26_loss: 8.2897 - val_dense_28_loss: 2.2376 - val_dense_30_loss: 2.2738 - val_dense_32_loss: 2.1552 - val_dense_34_loss: 2.1443 - val_dense_36_loss: 2.2336\n",
      "Epoch 6/30\n",
      "800/800 [==============================] - 25s 31ms/step - loss: 13.0998 - dense_26_loss: 1.8427 - dense_28_loss: 2.3055 - dense_30_loss: 2.2923 - dense_32_loss: 2.1730 - dense_34_loss: 2.2218 - dense_36_loss: 2.2645 - val_loss: 18.2610 - val_dense_26_loss: 7.4658 - val_dense_28_loss: 2.2222 - val_dense_30_loss: 2.1632 - val_dense_32_loss: 2.0856 - val_dense_34_loss: 2.1143 - val_dense_36_loss: 2.2099\n",
      "Epoch 7/30\n",
      "800/800 [==============================] - 25s 32ms/step - loss: 12.7838 - dense_26_loss: 1.7612 - dense_28_loss: 2.2429 - dense_30_loss: 2.2623 - dense_32_loss: 2.1450 - dense_34_loss: 2.0968 - dense_36_loss: 2.2756 - val_loss: 23.6562 - val_dense_26_loss: 13.0572 - val_dense_28_loss: 2.1784 - val_dense_30_loss: 2.1026 - val_dense_32_loss: 2.0298 - val_dense_34_loss: 2.1426 - val_dense_36_loss: 2.1456\n",
      "Epoch 8/30\n",
      "800/800 [==============================] - 25s 31ms/step - loss: 12.4357 - dense_26_loss: 1.6799 - dense_28_loss: 2.2024 - dense_30_loss: 2.2064 - dense_32_loss: 2.0868 - dense_34_loss: 2.0586 - dense_36_loss: 2.2017 - val_loss: 20.3435 - val_dense_26_loss: 10.1194 - val_dense_28_loss: 2.1569 - val_dense_30_loss: 2.0481 - val_dense_32_loss: 1.8742 - val_dense_34_loss: 2.0054 - val_dense_36_loss: 2.1395\n",
      "Epoch 9/30\n",
      "800/800 [==============================] - 22s 28ms/step - loss: 12.0816 - dense_26_loss: 1.5072 - dense_28_loss: 2.1348 - dense_30_loss: 2.0926 - dense_32_loss: 2.0821 - dense_34_loss: 2.0104 - dense_36_loss: 2.2544 - val_loss: 20.0069 - val_dense_26_loss: 9.9892 - val_dense_28_loss: 1.9994 - val_dense_30_loss: 2.0986 - val_dense_32_loss: 1.9101 - val_dense_34_loss: 1.9521 - val_dense_36_loss: 2.0575\n",
      "Epoch 10/30\n",
      "800/800 [==============================] - 23s 29ms/step - loss: 11.6950 - dense_26_loss: 1.4025 - dense_28_loss: 2.0903 - dense_30_loss: 2.0656 - dense_32_loss: 2.0354 - dense_34_loss: 1.8998 - dense_36_loss: 2.2016 - val_loss: 17.6517 - val_dense_26_loss: 8.1963 - val_dense_28_loss: 1.8719 - val_dense_30_loss: 1.9191 - val_dense_32_loss: 1.8273 - val_dense_34_loss: 1.8136 - val_dense_36_loss: 2.0235\n",
      "Epoch 11/30\n",
      "800/800 [==============================] - 23s 29ms/step - loss: 11.1858 - dense_26_loss: 1.2353 - dense_28_loss: 2.0425 - dense_30_loss: 2.0492 - dense_32_loss: 1.9033 - dense_34_loss: 1.8430 - dense_36_loss: 2.1124 - val_loss: 19.0600 - val_dense_26_loss: 9.8837 - val_dense_28_loss: 1.9723 - val_dense_30_loss: 1.8132 - val_dense_32_loss: 1.7511 - val_dense_34_loss: 1.6479 - val_dense_36_loss: 1.9919\n",
      "Epoch 12/30\n",
      "800/800 [==============================] - 23s 29ms/step - loss: 10.5466 - dense_26_loss: 1.0972 - dense_28_loss: 1.9778 - dense_30_loss: 1.8690 - dense_32_loss: 1.8109 - dense_34_loss: 1.7451 - dense_36_loss: 2.0467 - val_loss: 19.6500 - val_dense_26_loss: 10.8336 - val_dense_28_loss: 1.7474 - val_dense_30_loss: 1.7555 - val_dense_32_loss: 1.7887 - val_dense_34_loss: 1.6018 - val_dense_36_loss: 1.9231\n",
      "Epoch 13/30\n",
      "800/800 [==============================] - 23s 29ms/step - loss: 10.2659 - dense_26_loss: 1.0063 - dense_28_loss: 1.9438 - dense_30_loss: 1.8607 - dense_32_loss: 1.7488 - dense_34_loss: 1.6874 - dense_36_loss: 2.0189 - val_loss: 20.2522 - val_dense_26_loss: 11.4661 - val_dense_28_loss: 1.8155 - val_dense_30_loss: 2.0160 - val_dense_32_loss: 1.5233 - val_dense_34_loss: 1.4954 - val_dense_36_loss: 1.9359\n",
      "Epoch 14/30\n",
      "800/800 [==============================] - 23s 28ms/step - loss: 9.5837 - dense_26_loss: 0.8711 - dense_28_loss: 1.8668 - dense_30_loss: 1.7786 - dense_32_loss: 1.6322 - dense_34_loss: 1.4818 - dense_36_loss: 1.9532 - val_loss: 21.1379 - val_dense_26_loss: 13.5773 - val_dense_28_loss: 1.5828 - val_dense_30_loss: 1.5682 - val_dense_32_loss: 1.3452 - val_dense_34_loss: 1.2730 - val_dense_36_loss: 1.7913\n",
      "Epoch 15/30\n",
      "800/800 [==============================] - 23s 28ms/step - loss: 9.0462 - dense_26_loss: 0.7440 - dense_28_loss: 1.8249 - dense_30_loss: 1.6626 - dense_32_loss: 1.5006 - dense_34_loss: 1.4082 - dense_36_loss: 1.9058 - val_loss: 18.5286 - val_dense_26_loss: 11.2521 - val_dense_28_loss: 1.6259 - val_dense_30_loss: 1.6078 - val_dense_32_loss: 1.1448 - val_dense_34_loss: 1.1435 - val_dense_36_loss: 1.7545\n",
      "Epoch 16/30\n",
      "800/800 [==============================] - 23s 29ms/step - loss: 8.5584 - dense_26_loss: 0.6918 - dense_28_loss: 1.7110 - dense_30_loss: 1.5809 - dense_32_loss: 1.3829 - dense_34_loss: 1.3409 - dense_36_loss: 1.8509 - val_loss: 20.1533 - val_dense_26_loss: 13.1621 - val_dense_28_loss: 1.5264 - val_dense_30_loss: 1.6268 - val_dense_32_loss: 1.1135 - val_dense_34_loss: 0.9848 - val_dense_36_loss: 1.7397\n",
      "Epoch 17/30\n",
      "800/800 [==============================] - 22s 28ms/step - loss: 8.0343 - dense_26_loss: 0.5987 - dense_28_loss: 1.6097 - dense_30_loss: 1.5193 - dense_32_loss: 1.3351 - dense_34_loss: 1.1484 - dense_36_loss: 1.8231 - val_loss: 18.0615 - val_dense_26_loss: 11.3820 - val_dense_28_loss: 1.5267 - val_dense_30_loss: 1.5385 - val_dense_32_loss: 0.9797 - val_dense_34_loss: 1.0049 - val_dense_36_loss: 1.6298\n",
      "Epoch 18/30\n",
      "800/800 [==============================] - 23s 28ms/step - loss: 7.3243 - dense_26_loss: 0.5385 - dense_28_loss: 1.4697 - dense_30_loss: 1.4086 - dense_32_loss: 1.2546 - dense_34_loss: 1.0235 - dense_36_loss: 1.6294 - val_loss: 17.2639 - val_dense_26_loss: 11.4200 - val_dense_28_loss: 1.3474 - val_dense_30_loss: 1.2036 - val_dense_32_loss: 0.7897 - val_dense_34_loss: 0.9374 - val_dense_36_loss: 1.5658\n",
      "Epoch 19/30\n",
      "800/800 [==============================] - 23s 29ms/step - loss: 6.8726 - dense_26_loss: 0.4536 - dense_28_loss: 1.4531 - dense_30_loss: 1.3079 - dense_32_loss: 1.0993 - dense_34_loss: 0.9842 - dense_36_loss: 1.5745 - val_loss: 18.1120 - val_dense_26_loss: 12.6266 - val_dense_28_loss: 1.1764 - val_dense_30_loss: 1.2610 - val_dense_32_loss: 0.7931 - val_dense_34_loss: 0.8553 - val_dense_36_loss: 1.3997\n",
      "Epoch 20/30\n",
      "800/800 [==============================] - 23s 29ms/step - loss: 6.3255 - dense_26_loss: 0.4513 - dense_28_loss: 1.2342 - dense_30_loss: 1.2238 - dense_32_loss: 0.9664 - dense_34_loss: 1.0026 - dense_36_loss: 1.4473 - val_loss: 16.3407 - val_dense_26_loss: 12.0676 - val_dense_28_loss: 0.9710 - val_dense_30_loss: 0.8082 - val_dense_32_loss: 0.5978 - val_dense_34_loss: 0.7100 - val_dense_36_loss: 1.1861\n"
     ]
    },
    {
     "name": "stdout",
     "output_type": "stream",
     "text": [
      "Epoch 21/30\n",
      "800/800 [==============================] - 22s 28ms/step - loss: 5.9243 - dense_26_loss: 0.3800 - dense_28_loss: 1.1582 - dense_30_loss: 1.1344 - dense_32_loss: 0.9801 - dense_34_loss: 0.9298 - dense_36_loss: 1.3419 - val_loss: 15.7003 - val_dense_26_loss: 11.9539 - val_dense_28_loss: 0.9536 - val_dense_30_loss: 0.7056 - val_dense_32_loss: 0.5959 - val_dense_34_loss: 0.5621 - val_dense_36_loss: 0.9293\n",
      "Epoch 22/30\n",
      "800/800 [==============================] - 23s 28ms/step - loss: 5.2097 - dense_26_loss: 0.3619 - dense_28_loss: 1.0718 - dense_30_loss: 1.0421 - dense_32_loss: 0.8387 - dense_34_loss: 0.7256 - dense_36_loss: 1.1696 - val_loss: 14.4667 - val_dense_26_loss: 11.0746 - val_dense_28_loss: 0.8005 - val_dense_30_loss: 0.5655 - val_dense_32_loss: 0.5643 - val_dense_34_loss: 0.5371 - val_dense_36_loss: 0.9247\n",
      "Epoch 23/30\n",
      "800/800 [==============================] - 22s 27ms/step - loss: 4.9167 - dense_26_loss: 0.3399 - dense_28_loss: 0.9372 - dense_30_loss: 0.9375 - dense_32_loss: 0.8434 - dense_34_loss: 0.7895 - dense_36_loss: 1.0694 - val_loss: 18.4719 - val_dense_26_loss: 15.7093 - val_dense_28_loss: 0.5664 - val_dense_30_loss: 0.5806 - val_dense_32_loss: 0.4723 - val_dense_34_loss: 0.5053 - val_dense_36_loss: 0.6380\n",
      "Epoch 24/30\n",
      "800/800 [==============================] - 22s 27ms/step - loss: 4.4000 - dense_26_loss: 0.2300 - dense_28_loss: 0.9258 - dense_30_loss: 0.8357 - dense_32_loss: 0.7397 - dense_34_loss: 0.6663 - dense_36_loss: 1.0024 - val_loss: 17.4550 - val_dense_26_loss: 14.5566 - val_dense_28_loss: 0.3230 - val_dense_30_loss: 0.8552 - val_dense_32_loss: 0.6264 - val_dense_34_loss: 0.4555 - val_dense_36_loss: 0.6383\n",
      "Epoch 25/30\n",
      "800/800 [==============================] - 21s 27ms/step - loss: 4.1816 - dense_26_loss: 0.3034 - dense_28_loss: 0.8561 - dense_30_loss: 0.8091 - dense_32_loss: 0.6789 - dense_34_loss: 0.6243 - dense_36_loss: 0.9098 - val_loss: 18.0642 - val_dense_26_loss: 15.1771 - val_dense_28_loss: 0.5174 - val_dense_30_loss: 0.7068 - val_dense_32_loss: 0.4729 - val_dense_34_loss: 0.6296 - val_dense_36_loss: 0.5603\n",
      "Epoch 26/30\n",
      "800/800 [==============================] - 22s 27ms/step - loss: 3.7855 - dense_26_loss: 0.2236 - dense_28_loss: 0.7580 - dense_30_loss: 0.6733 - dense_32_loss: 0.6458 - dense_34_loss: 0.5937 - dense_36_loss: 0.8911 - val_loss: 17.4609 - val_dense_26_loss: 14.8617 - val_dense_28_loss: 0.5262 - val_dense_30_loss: 0.5845 - val_dense_32_loss: 0.3538 - val_dense_34_loss: 0.6331 - val_dense_36_loss: 0.5016\n",
      "Epoch 27/30\n",
      "800/800 [==============================] - 22s 27ms/step - loss: 3.6332 - dense_26_loss: 0.2132 - dense_28_loss: 0.7047 - dense_30_loss: 0.7115 - dense_32_loss: 0.5682 - dense_34_loss: 0.6082 - dense_36_loss: 0.8274 - val_loss: nan - val_dense_26_loss: nan - val_dense_28_loss: 0.5609 - val_dense_30_loss: 0.5019 - val_dense_32_loss: 0.7757 - val_dense_34_loss: 0.6509 - val_dense_36_loss: 0.7501\n",
      "Epoch 28/30\n",
      "800/800 [==============================] - 22s 27ms/step - loss: 3.4509 - dense_26_loss: 0.2396 - dense_28_loss: 0.6450 - dense_30_loss: 0.6491 - dense_32_loss: 0.5588 - dense_34_loss: 0.5964 - dense_36_loss: 0.7619 - val_loss: 16.7852 - val_dense_26_loss: 14.3716 - val_dense_28_loss: 0.3628 - val_dense_30_loss: 0.5467 - val_dense_32_loss: 0.5429 - val_dense_34_loss: 0.5282 - val_dense_36_loss: 0.4330\n",
      "Epoch 29/30\n",
      "800/800 [==============================] - 22s 27ms/step - loss: 3.2502 - dense_26_loss: 0.2144 - dense_28_loss: 0.6286 - dense_30_loss: 0.6083 - dense_32_loss: 0.6015 - dense_34_loss: 0.4795 - dense_36_loss: 0.7180 - val_loss: 17.3251 - val_dense_26_loss: 14.9826 - val_dense_28_loss: 0.3737 - val_dense_30_loss: 0.5819 - val_dense_32_loss: 0.4955 - val_dense_34_loss: 0.4480 - val_dense_36_loss: 0.4433\n",
      "Epoch 30/30\n",
      "800/800 [==============================] - 22s 27ms/step - loss: 3.0674 - dense_26_loss: 0.2065 - dense_28_loss: 0.5732 - dense_30_loss: 0.5983 - dense_32_loss: 0.5161 - dense_34_loss: 0.4864 - dense_36_loss: 0.6868 - val_loss: nan - val_dense_26_loss: nan - val_dense_28_loss: 0.3482 - val_dense_30_loss: 0.7304 - val_dense_32_loss: 0.4673 - val_dense_34_loss: 0.4725 - val_dense_36_loss: 0.3086\n"
     ]
    }
   ],
   "source": [
    "# Create net and fit\n",
    "net = create_net()\n",
    "history = net.fit(X_train, [y_train[0], y_train[1], y_train[2], y_train[3], y_train[4], y_train[5]], batch_size=32, epochs=30, validation_split=0.2)"
   ]
  },
  {
   "cell_type": "code",
   "execution_count": 20,
   "metadata": {},
   "outputs": [],
   "source": [
    "# Define function to predict captcha\n",
    "def predict(filepath):\n",
    "    img = cv2.imread(filepath, cv2.IMREAD_GRAYSCALE) / 255.\n",
    "    res = np.array(net.predict(img[np.newaxis, :, :, np.newaxis]))\n",
    "    ans = np.reshape(res, (6, 10))\n",
    "    l_ind = []\n",
    "    probs = []\n",
    "    for a in ans:\n",
    "        l_ind.append(np.argmax(a))\n",
    "        probs.append(np.max(a))\n",
    "\n",
    "    capt = ''\n",
    "    for l in l_ind:\n",
    "        capt += symbols[l]\n",
    "    return capt, sum(probs) / 6"
   ]
  },
  {
   "cell_type": "code",
   "execution_count": 21,
   "metadata": {},
   "outputs": [
    {
     "name": "stdout",
     "output_type": "stream",
     "text": [
      "('108207', 0.5514591832955679)\n",
      "('111183', 0.7993138382832209)\n",
      "('111281', 0.6913224905729294)\n"
     ]
    }
   ],
   "source": [
    "# Check model on some samples\n",
    "net.evaluate(X_test, [y_test[0], y_test[1], y_test[2], y_test[3], y_test[4], y_test[5]])\n",
    "\n",
    "print(predict(r'C:\\Users\\MudraCircle\\.conda\\pkgs\\04_CAPTCHA model training/captcha/108207.png'))\n",
    "print(predict(r'C:\\Users\\MudraCircle\\.conda\\pkgs\\04_CAPTCHA model training/captcha/111183.png'))\n",
    "print(predict(r'C:\\Users\\MudraCircle\\.conda\\pkgs\\04_CAPTCHA model training/captcha/111281.png'))"
   ]
  },
  {
   "cell_type": "code",
   "execution_count": 22,
   "metadata": {},
   "outputs": [
    {
     "name": "stdout",
     "output_type": "stream",
     "text": [
      "('103662', 0.6537480105956396)\n",
      "('104639', 0.599955086906751)\n",
      "('105773', 0.757027750213941)\n"
     ]
    }
   ],
   "source": [
    "#testing different captchas\n",
    "print(predict(r'C:\\Users\\MudraCircle\\.conda\\pkgs\\04_CAPTCHA model training/01.png'))\n",
    "print(predict(r'C:\\Users\\MudraCircle\\.conda\\pkgs\\04_CAPTCHA model training/02.png'))\n",
    "print(predict(r'C:\\Users\\MudraCircle\\.conda\\pkgs\\04_CAPTCHA model training/03.png'))"
   ]
  }
 ],
 "metadata": {
  "kernelspec": {
   "display_name": "Python 3",
   "language": "python",
   "name": "python3"
  },
  "language_info": {
   "codemirror_mode": {
    "name": "ipython",
    "version": 3
   },
   "file_extension": ".py",
   "mimetype": "text/x-python",
   "name": "python",
   "nbconvert_exporter": "python",
   "pygments_lexer": "ipython3",
   "version": "3.7.1"
  }
 },
 "nbformat": 4,
 "nbformat_minor": 2
}
